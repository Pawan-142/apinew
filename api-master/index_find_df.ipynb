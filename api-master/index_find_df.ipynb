{
 "cells": [
  {
   "cell_type": "code",
   "execution_count": 38,
   "metadata": {
    "colab": {
     "base_uri": "https://localhost:8080/"
    },
    "id": "ReHpB8MPGzDo",
    "outputId": "cfeaddfe-fb1c-4637-ce74-7c3dc5bcaf29"
   },
   "outputs": [
    {
     "name": "stdout",
     "output_type": "stream",
     "text": [
      "Drive already mounted at /content/gdrive; to attempt to forcibly remount, call drive.mount(\"/content/gdrive\", force_remount=True).\n"
     ]
    }
   ],
   "source": [
    "from google.colab import drive\n",
    "drive.mount('/content/gdrive')"
   ]
  },
  {
   "cell_type": "markdown",
   "metadata": {
    "id": "t7zEUteUcwym"
   },
   "source": [
    "## Importing library"
   ]
  },
  {
   "cell_type": "code",
   "execution_count": 2,
   "metadata": {
    "id": "SRmuViCkHGYJ"
   },
   "outputs": [],
   "source": [
    "import pandas as pd"
   ]
  },
  {
   "cell_type": "markdown",
   "metadata": {
    "id": "Pi3u_z9nc1aF"
   },
   "source": [
    "## Loading Datasets from gdrive"
   ]
  },
  {
   "cell_type": "code",
   "execution_count": 4,
   "metadata": {
    "id": "zuK-gwpmHaaE"
   },
   "outputs": [],
   "source": [
    "# df = pd.read_csv(\"/content/gdrive/MyDrive/college_project/data_p1.csv\")\n",
    "df = pd.read_csv(\"data_p1.csv\")"
   ]
  },
  {
   "cell_type": "code",
   "execution_count": 5,
   "metadata": {
    "colab": {
     "base_uri": "https://localhost:8080/",
     "height": 203
    },
    "id": "J7-oEE0mHm5Y",
    "outputId": "6b2caf02-a72a-4d23-e5fc-daa403701806"
   },
   "outputs": [
    {
     "data": {
      "text/html": [
       "<div>\n",
       "<style scoped>\n",
       "    .dataframe tbody tr th:only-of-type {\n",
       "        vertical-align: middle;\n",
       "    }\n",
       "\n",
       "    .dataframe tbody tr th {\n",
       "        vertical-align: top;\n",
       "    }\n",
       "\n",
       "    .dataframe thead th {\n",
       "        text-align: right;\n",
       "    }\n",
       "</style>\n",
       "<table border=\"1\" class=\"dataframe\">\n",
       "  <thead>\n",
       "    <tr style=\"text-align: right;\">\n",
       "      <th></th>\n",
       "      <th>director_name</th>\n",
       "      <th>actor_1_name</th>\n",
       "      <th>actor_2_name</th>\n",
       "      <th>actor_3_name</th>\n",
       "      <th>genres</th>\n",
       "      <th>movie_title</th>\n",
       "    </tr>\n",
       "  </thead>\n",
       "  <tbody>\n",
       "    <tr>\n",
       "      <th>0</th>\n",
       "      <td>James Cameron</td>\n",
       "      <td>CCH Pounder</td>\n",
       "      <td>Joel David Moore</td>\n",
       "      <td>Wes Studi</td>\n",
       "      <td>Action Adventure Fantasy science friction</td>\n",
       "      <td>Avatar</td>\n",
       "    </tr>\n",
       "    <tr>\n",
       "      <th>1</th>\n",
       "      <td>Gore Verbinski</td>\n",
       "      <td>Johnny Depp</td>\n",
       "      <td>Orlando Bloom</td>\n",
       "      <td>Jack Davenport</td>\n",
       "      <td>Action Adventure Fantasy</td>\n",
       "      <td>Pirates of the Caribbean: At World's End</td>\n",
       "    </tr>\n",
       "    <tr>\n",
       "      <th>2</th>\n",
       "      <td>Sam Mendes</td>\n",
       "      <td>Christoph Waltz</td>\n",
       "      <td>Rory Kinnear</td>\n",
       "      <td>Stephanie Sigman</td>\n",
       "      <td>Action Adventure Thriller</td>\n",
       "      <td>Spectre</td>\n",
       "    </tr>\n",
       "    <tr>\n",
       "      <th>3</th>\n",
       "      <td>Christopher Nolan</td>\n",
       "      <td>Tom Hardy</td>\n",
       "      <td>Christian Bale</td>\n",
       "      <td>Joseph Gordon Levitt</td>\n",
       "      <td>Action Thriller</td>\n",
       "      <td>The Dark Knight Rises</td>\n",
       "    </tr>\n",
       "    <tr>\n",
       "      <th>4</th>\n",
       "      <td>Doug Walker</td>\n",
       "      <td>Doug Walker</td>\n",
       "      <td>Rob Walker</td>\n",
       "      <td>NaN</td>\n",
       "      <td>Documentary</td>\n",
       "      <td>Star Wars: Episode VII - The Force Awakens    ...</td>\n",
       "    </tr>\n",
       "  </tbody>\n",
       "</table>\n",
       "</div>"
      ],
      "text/plain": [
       "       director_name     actor_1_name      actor_2_name          actor_3_name  \\\n",
       "0      James Cameron      CCH Pounder  Joel David Moore             Wes Studi   \n",
       "1     Gore Verbinski      Johnny Depp     Orlando Bloom        Jack Davenport   \n",
       "2         Sam Mendes  Christoph Waltz      Rory Kinnear      Stephanie Sigman   \n",
       "3  Christopher Nolan        Tom Hardy    Christian Bale  Joseph Gordon Levitt   \n",
       "4        Doug Walker      Doug Walker        Rob Walker                   NaN   \n",
       "\n",
       "                                      genres  \\\n",
       "0  Action Adventure Fantasy science friction   \n",
       "1                   Action Adventure Fantasy   \n",
       "2                  Action Adventure Thriller   \n",
       "3                            Action Thriller   \n",
       "4                                Documentary   \n",
       "\n",
       "                                         movie_title  \n",
       "0                                            Avatar   \n",
       "1          Pirates of the Caribbean: At World's End   \n",
       "2                                           Spectre   \n",
       "3                             The Dark Knight Rises   \n",
       "4  Star Wars: Episode VII - The Force Awakens    ...  "
      ]
     },
     "execution_count": 5,
     "metadata": {},
     "output_type": "execute_result"
    }
   ],
   "source": [
    "df.head()"
   ]
  },
  {
   "cell_type": "code",
   "execution_count": 6,
   "metadata": {
    "colab": {
     "base_uri": "https://localhost:8080/"
    },
    "id": "Ce_UWthCHo0Y",
    "outputId": "329ffd15-9347-488f-e319-06a2ba9474e5"
   },
   "outputs": [
    {
     "name": "stdout",
     "output_type": "stream",
     "text": [
      "<class 'pandas.core.frame.DataFrame'>\n",
      "RangeIndex: 5043 entries, 0 to 5042\n",
      "Data columns (total 6 columns):\n",
      " #   Column         Non-Null Count  Dtype \n",
      "---  ------         --------------  ----- \n",
      " 0   director_name  4939 non-null   object\n",
      " 1   actor_1_name   5036 non-null   object\n",
      " 2   actor_2_name   5030 non-null   object\n",
      " 3   actor_3_name   5020 non-null   object\n",
      " 4   genres         5043 non-null   object\n",
      " 5   movie_title    5043 non-null   object\n",
      "dtypes: object(6)\n",
      "memory usage: 236.5+ KB\n"
     ]
    }
   ],
   "source": [
    "df.info()"
   ]
  },
  {
   "cell_type": "markdown",
   "metadata": {
    "id": "DgXtn6H-c6e9"
   },
   "source": [
    "## Checking NAN value"
   ]
  },
  {
   "cell_type": "code",
   "execution_count": 7,
   "metadata": {
    "colab": {
     "base_uri": "https://localhost:8080/"
    },
    "id": "7GffCRXgMbnq",
    "outputId": "739c56b6-b852-4e7d-b74c-a88b48efeff2"
   },
   "outputs": [
    {
     "data": {
      "text/plain": [
       "director_name     True\n",
       "actor_1_name      True\n",
       "actor_2_name      True\n",
       "actor_3_name      True\n",
       "genres           False\n",
       "movie_title      False\n",
       "dtype: bool"
      ]
     },
     "execution_count": 7,
     "metadata": {},
     "output_type": "execute_result"
    }
   ],
   "source": [
    "df.isna().any()"
   ]
  },
  {
   "cell_type": "markdown",
   "metadata": {
    "id": "2tczDHBIc-Us"
   },
   "source": [
    "## Drop NAN value"
   ]
  },
  {
   "cell_type": "code",
   "execution_count": 8,
   "metadata": {
    "id": "EQPpW96VNCsN"
   },
   "outputs": [],
   "source": [
    "df = df.dropna()"
   ]
  },
  {
   "cell_type": "code",
   "execution_count": 9,
   "metadata": {
    "colab": {
     "base_uri": "https://localhost:8080/"
    },
    "id": "xR-owk8bNFGA",
    "outputId": "e410a64d-0fed-4474-a03a-9197d6708de4"
   },
   "outputs": [
    {
     "data": {
      "text/plain": [
       "director_name    False\n",
       "actor_1_name     False\n",
       "actor_2_name     False\n",
       "actor_3_name     False\n",
       "genres           False\n",
       "movie_title      False\n",
       "dtype: bool"
      ]
     },
     "execution_count": 9,
     "metadata": {},
     "output_type": "execute_result"
    }
   ],
   "source": [
    "df.isna().any()"
   ]
  },
  {
   "cell_type": "code",
   "execution_count": 10,
   "metadata": {
    "colab": {
     "base_uri": "https://localhost:8080/"
    },
    "id": "dHDP-DexNH4q",
    "outputId": "b51c3655-6102-42df-8af5-63a2f62ea0ae"
   },
   "outputs": [
    {
     "data": {
      "text/plain": [
       "(4919, 6)"
      ]
     },
     "execution_count": 10,
     "metadata": {},
     "output_type": "execute_result"
    }
   ],
   "source": [
    "df.shape"
   ]
  },
  {
   "cell_type": "code",
   "execution_count": 11,
   "metadata": {
    "colab": {
     "base_uri": "https://localhost:8080/",
     "height": 203
    },
    "id": "x5MRmD_-Yw1d",
    "outputId": "7f11563e-cdce-45a4-aaf6-b64a51a3e600"
   },
   "outputs": [
    {
     "data": {
      "text/html": [
       "<div>\n",
       "<style scoped>\n",
       "    .dataframe tbody tr th:only-of-type {\n",
       "        vertical-align: middle;\n",
       "    }\n",
       "\n",
       "    .dataframe tbody tr th {\n",
       "        vertical-align: top;\n",
       "    }\n",
       "\n",
       "    .dataframe thead th {\n",
       "        text-align: right;\n",
       "    }\n",
       "</style>\n",
       "<table border=\"1\" class=\"dataframe\">\n",
       "  <thead>\n",
       "    <tr style=\"text-align: right;\">\n",
       "      <th></th>\n",
       "      <th>director_name</th>\n",
       "      <th>actor_1_name</th>\n",
       "      <th>actor_2_name</th>\n",
       "      <th>actor_3_name</th>\n",
       "      <th>genres</th>\n",
       "      <th>movie_title</th>\n",
       "    </tr>\n",
       "  </thead>\n",
       "  <tbody>\n",
       "    <tr>\n",
       "      <th>0</th>\n",
       "      <td>James Cameron</td>\n",
       "      <td>CCH Pounder</td>\n",
       "      <td>Joel David Moore</td>\n",
       "      <td>Wes Studi</td>\n",
       "      <td>Action Adventure Fantasy science friction</td>\n",
       "      <td>Avatar</td>\n",
       "    </tr>\n",
       "    <tr>\n",
       "      <th>1</th>\n",
       "      <td>Gore Verbinski</td>\n",
       "      <td>Johnny Depp</td>\n",
       "      <td>Orlando Bloom</td>\n",
       "      <td>Jack Davenport</td>\n",
       "      <td>Action Adventure Fantasy</td>\n",
       "      <td>Pirates of the Caribbean: At World's End</td>\n",
       "    </tr>\n",
       "    <tr>\n",
       "      <th>2</th>\n",
       "      <td>Sam Mendes</td>\n",
       "      <td>Christoph Waltz</td>\n",
       "      <td>Rory Kinnear</td>\n",
       "      <td>Stephanie Sigman</td>\n",
       "      <td>Action Adventure Thriller</td>\n",
       "      <td>Spectre</td>\n",
       "    </tr>\n",
       "    <tr>\n",
       "      <th>3</th>\n",
       "      <td>Christopher Nolan</td>\n",
       "      <td>Tom Hardy</td>\n",
       "      <td>Christian Bale</td>\n",
       "      <td>Joseph Gordon Levitt</td>\n",
       "      <td>Action Thriller</td>\n",
       "      <td>The Dark Knight Rises</td>\n",
       "    </tr>\n",
       "    <tr>\n",
       "      <th>5</th>\n",
       "      <td>Andrew Stanton</td>\n",
       "      <td>Daryl Sabara</td>\n",
       "      <td>Samantha Morton</td>\n",
       "      <td>Polly Walker</td>\n",
       "      <td>Action Adventure science friction</td>\n",
       "      <td>John Carter</td>\n",
       "    </tr>\n",
       "  </tbody>\n",
       "</table>\n",
       "</div>"
      ],
      "text/plain": [
       "       director_name     actor_1_name      actor_2_name          actor_3_name  \\\n",
       "0      James Cameron      CCH Pounder  Joel David Moore             Wes Studi   \n",
       "1     Gore Verbinski      Johnny Depp     Orlando Bloom        Jack Davenport   \n",
       "2         Sam Mendes  Christoph Waltz      Rory Kinnear      Stephanie Sigman   \n",
       "3  Christopher Nolan        Tom Hardy    Christian Bale  Joseph Gordon Levitt   \n",
       "5     Andrew Stanton     Daryl Sabara   Samantha Morton          Polly Walker   \n",
       "\n",
       "                                      genres  \\\n",
       "0  Action Adventure Fantasy science friction   \n",
       "1                   Action Adventure Fantasy   \n",
       "2                  Action Adventure Thriller   \n",
       "3                            Action Thriller   \n",
       "5          Action Adventure science friction   \n",
       "\n",
       "                                 movie_title  \n",
       "0                                    Avatar   \n",
       "1  Pirates of the Caribbean: At World's End   \n",
       "2                                   Spectre   \n",
       "3                     The Dark Knight Rises   \n",
       "5                               John Carter   "
      ]
     },
     "execution_count": 11,
     "metadata": {},
     "output_type": "execute_result"
    }
   ],
   "source": [
    "df.head()"
   ]
  },
  {
   "cell_type": "code",
   "execution_count": 12,
   "metadata": {
    "id": "duZoL2zcYkBL"
   },
   "outputs": [],
   "source": [
    "df['director_name'] = df['director_name'].str.lower()\n",
    "df['actor_1_name'] = df['actor_1_name'].str.lower()\n",
    "df['actor_2_name'] = df['actor_2_name'].str.lower()\n",
    "df['actor_3_name'] = df['actor_3_name'].str.lower()\n",
    "df['genres'] = df['genres'].str.lower()\n",
    "df['movie_title'] = df['movie_title'].str.lower()"
   ]
  },
  {
   "cell_type": "code",
   "execution_count": 13,
   "metadata": {
    "colab": {
     "base_uri": "https://localhost:8080/",
     "height": 203
    },
    "id": "gF_3FcpvZCoA",
    "outputId": "fd8199aa-0e7c-41cc-c6a2-f01e301f70da"
   },
   "outputs": [
    {
     "data": {
      "text/html": [
       "<div>\n",
       "<style scoped>\n",
       "    .dataframe tbody tr th:only-of-type {\n",
       "        vertical-align: middle;\n",
       "    }\n",
       "\n",
       "    .dataframe tbody tr th {\n",
       "        vertical-align: top;\n",
       "    }\n",
       "\n",
       "    .dataframe thead th {\n",
       "        text-align: right;\n",
       "    }\n",
       "</style>\n",
       "<table border=\"1\" class=\"dataframe\">\n",
       "  <thead>\n",
       "    <tr style=\"text-align: right;\">\n",
       "      <th></th>\n",
       "      <th>director_name</th>\n",
       "      <th>actor_1_name</th>\n",
       "      <th>actor_2_name</th>\n",
       "      <th>actor_3_name</th>\n",
       "      <th>genres</th>\n",
       "      <th>movie_title</th>\n",
       "    </tr>\n",
       "  </thead>\n",
       "  <tbody>\n",
       "    <tr>\n",
       "      <th>0</th>\n",
       "      <td>james cameron</td>\n",
       "      <td>cch pounder</td>\n",
       "      <td>joel david moore</td>\n",
       "      <td>wes studi</td>\n",
       "      <td>action adventure fantasy science friction</td>\n",
       "      <td>avatar</td>\n",
       "    </tr>\n",
       "    <tr>\n",
       "      <th>1</th>\n",
       "      <td>gore verbinski</td>\n",
       "      <td>johnny depp</td>\n",
       "      <td>orlando bloom</td>\n",
       "      <td>jack davenport</td>\n",
       "      <td>action adventure fantasy</td>\n",
       "      <td>pirates of the caribbean: at world's end</td>\n",
       "    </tr>\n",
       "    <tr>\n",
       "      <th>2</th>\n",
       "      <td>sam mendes</td>\n",
       "      <td>christoph waltz</td>\n",
       "      <td>rory kinnear</td>\n",
       "      <td>stephanie sigman</td>\n",
       "      <td>action adventure thriller</td>\n",
       "      <td>spectre</td>\n",
       "    </tr>\n",
       "    <tr>\n",
       "      <th>3</th>\n",
       "      <td>christopher nolan</td>\n",
       "      <td>tom hardy</td>\n",
       "      <td>christian bale</td>\n",
       "      <td>joseph gordon levitt</td>\n",
       "      <td>action thriller</td>\n",
       "      <td>the dark knight rises</td>\n",
       "    </tr>\n",
       "    <tr>\n",
       "      <th>5</th>\n",
       "      <td>andrew stanton</td>\n",
       "      <td>daryl sabara</td>\n",
       "      <td>samantha morton</td>\n",
       "      <td>polly walker</td>\n",
       "      <td>action adventure science friction</td>\n",
       "      <td>john carter</td>\n",
       "    </tr>\n",
       "  </tbody>\n",
       "</table>\n",
       "</div>"
      ],
      "text/plain": [
       "       director_name     actor_1_name      actor_2_name          actor_3_name  \\\n",
       "0      james cameron      cch pounder  joel david moore             wes studi   \n",
       "1     gore verbinski      johnny depp     orlando bloom        jack davenport   \n",
       "2         sam mendes  christoph waltz      rory kinnear      stephanie sigman   \n",
       "3  christopher nolan        tom hardy    christian bale  joseph gordon levitt   \n",
       "5     andrew stanton     daryl sabara   samantha morton          polly walker   \n",
       "\n",
       "                                      genres  \\\n",
       "0  action adventure fantasy science friction   \n",
       "1                   action adventure fantasy   \n",
       "2                  action adventure thriller   \n",
       "3                            action thriller   \n",
       "5          action adventure science friction   \n",
       "\n",
       "                                 movie_title  \n",
       "0                                    avatar   \n",
       "1  pirates of the caribbean: at world's end   \n",
       "2                                   spectre   \n",
       "3                     the dark knight rises   \n",
       "5                               john carter   "
      ]
     },
     "execution_count": 13,
     "metadata": {},
     "output_type": "execute_result"
    }
   ],
   "source": [
    "df.head()"
   ]
  },
  {
   "cell_type": "code",
   "execution_count": 14,
   "metadata": {
    "id": "vrb2orW9PtKf"
   },
   "outputs": [],
   "source": [
    "index = []\n",
    "for i in range(0 , df.shape[0]):\n",
    "  index.append(i)"
   ]
  },
  {
   "cell_type": "code",
   "execution_count": 15,
   "metadata": {
    "id": "1kwHGizPP4kZ"
   },
   "outputs": [],
   "source": [
    "df[\"index\"] = index"
   ]
  },
  {
   "cell_type": "code",
   "execution_count": 16,
   "metadata": {
    "colab": {
     "base_uri": "https://localhost:8080/",
     "height": 203
    },
    "id": "gBcUcFTDQP2D",
    "outputId": "09ff684b-712b-4250-f577-4a21b1c5c1bf"
   },
   "outputs": [
    {
     "data": {
      "text/html": [
       "<div>\n",
       "<style scoped>\n",
       "    .dataframe tbody tr th:only-of-type {\n",
       "        vertical-align: middle;\n",
       "    }\n",
       "\n",
       "    .dataframe tbody tr th {\n",
       "        vertical-align: top;\n",
       "    }\n",
       "\n",
       "    .dataframe thead th {\n",
       "        text-align: right;\n",
       "    }\n",
       "</style>\n",
       "<table border=\"1\" class=\"dataframe\">\n",
       "  <thead>\n",
       "    <tr style=\"text-align: right;\">\n",
       "      <th></th>\n",
       "      <th>director_name</th>\n",
       "      <th>actor_1_name</th>\n",
       "      <th>actor_2_name</th>\n",
       "      <th>actor_3_name</th>\n",
       "      <th>genres</th>\n",
       "      <th>movie_title</th>\n",
       "      <th>index</th>\n",
       "    </tr>\n",
       "  </thead>\n",
       "  <tbody>\n",
       "    <tr>\n",
       "      <th>0</th>\n",
       "      <td>james cameron</td>\n",
       "      <td>cch pounder</td>\n",
       "      <td>joel david moore</td>\n",
       "      <td>wes studi</td>\n",
       "      <td>action adventure fantasy science friction</td>\n",
       "      <td>avatar</td>\n",
       "      <td>0</td>\n",
       "    </tr>\n",
       "    <tr>\n",
       "      <th>1</th>\n",
       "      <td>gore verbinski</td>\n",
       "      <td>johnny depp</td>\n",
       "      <td>orlando bloom</td>\n",
       "      <td>jack davenport</td>\n",
       "      <td>action adventure fantasy</td>\n",
       "      <td>pirates of the caribbean: at world's end</td>\n",
       "      <td>1</td>\n",
       "    </tr>\n",
       "    <tr>\n",
       "      <th>2</th>\n",
       "      <td>sam mendes</td>\n",
       "      <td>christoph waltz</td>\n",
       "      <td>rory kinnear</td>\n",
       "      <td>stephanie sigman</td>\n",
       "      <td>action adventure thriller</td>\n",
       "      <td>spectre</td>\n",
       "      <td>2</td>\n",
       "    </tr>\n",
       "    <tr>\n",
       "      <th>3</th>\n",
       "      <td>christopher nolan</td>\n",
       "      <td>tom hardy</td>\n",
       "      <td>christian bale</td>\n",
       "      <td>joseph gordon levitt</td>\n",
       "      <td>action thriller</td>\n",
       "      <td>the dark knight rises</td>\n",
       "      <td>3</td>\n",
       "    </tr>\n",
       "    <tr>\n",
       "      <th>5</th>\n",
       "      <td>andrew stanton</td>\n",
       "      <td>daryl sabara</td>\n",
       "      <td>samantha morton</td>\n",
       "      <td>polly walker</td>\n",
       "      <td>action adventure science friction</td>\n",
       "      <td>john carter</td>\n",
       "      <td>4</td>\n",
       "    </tr>\n",
       "  </tbody>\n",
       "</table>\n",
       "</div>"
      ],
      "text/plain": [
       "       director_name     actor_1_name      actor_2_name          actor_3_name  \\\n",
       "0      james cameron      cch pounder  joel david moore             wes studi   \n",
       "1     gore verbinski      johnny depp     orlando bloom        jack davenport   \n",
       "2         sam mendes  christoph waltz      rory kinnear      stephanie sigman   \n",
       "3  christopher nolan        tom hardy    christian bale  joseph gordon levitt   \n",
       "5     andrew stanton     daryl sabara   samantha morton          polly walker   \n",
       "\n",
       "                                      genres  \\\n",
       "0  action adventure fantasy science friction   \n",
       "1                   action adventure fantasy   \n",
       "2                  action adventure thriller   \n",
       "3                            action thriller   \n",
       "5          action adventure science friction   \n",
       "\n",
       "                                 movie_title  index  \n",
       "0                                    avatar       0  \n",
       "1  pirates of the caribbean: at world's end       1  \n",
       "2                                   spectre       2  \n",
       "3                     the dark knight rises       3  \n",
       "5                               john carter       4  "
      ]
     },
     "execution_count": 16,
     "metadata": {},
     "output_type": "execute_result"
    }
   ],
   "source": [
    "df.head()"
   ]
  },
  {
   "cell_type": "code",
   "execution_count": 17,
   "metadata": {
    "id": "JVvM10TWJTGr"
   },
   "outputs": [
    {
     "name": "stderr",
     "output_type": "stream",
     "text": [
      "<ipython-input-17-5876ff70f3b1>:1: FutureWarning: The default value of regex will change from True to False in a future version.\n",
      "  df['director_name'] = df['director_name'].str.replace('\\d+', '')\n",
      "<ipython-input-17-5876ff70f3b1>:2: FutureWarning: The default value of regex will change from True to False in a future version.\n",
      "  df['actor_1_name'] = df['actor_1_name'].str.replace('\\d+', '')\n",
      "<ipython-input-17-5876ff70f3b1>:3: FutureWarning: The default value of regex will change from True to False in a future version.\n",
      "  df['actor_2_name'] = df['actor_2_name'].str.replace('\\d+', '')\n",
      "<ipython-input-17-5876ff70f3b1>:4: FutureWarning: The default value of regex will change from True to False in a future version.\n",
      "  df['actor_3_name'] = df['actor_3_name'].str.replace('\\d+', '')\n",
      "<ipython-input-17-5876ff70f3b1>:5: FutureWarning: The default value of regex will change from True to False in a future version.\n",
      "  df['genres'] = df['genres'].str.replace('\\d+', '')\n",
      "<ipython-input-17-5876ff70f3b1>:6: FutureWarning: The default value of regex will change from True to False in a future version.\n",
      "  df['movie_title'] = df['movie_title'].str.replace('\\d+', '')\n"
     ]
    }
   ],
   "source": [
    "df['director_name'] = df['director_name'].str.replace('\\d+', '')\n",
    "df['actor_1_name'] = df['actor_1_name'].str.replace('\\d+', '')\n",
    "df['actor_2_name'] = df['actor_2_name'].str.replace('\\d+', '')\n",
    "df['actor_3_name'] = df['actor_3_name'].str.replace('\\d+', '')\n",
    "df['genres'] = df['genres'].str.replace('\\d+', '')\n",
    "df['movie_title'] = df['movie_title'].str.replace('\\d+', '')"
   ]
  },
  {
   "cell_type": "code",
   "execution_count": 18,
   "metadata": {
    "id": "5ATECcEEHvrQ"
   },
   "outputs": [],
   "source": [
    "def combined_features(row):\n",
    "    return row['director_name']+\" \"+row['actor_1_name']+\" \"+row['actor_2_name']+\" \"+row['actor_3_name']+\" \"+row[\"genres\"]+\" \"+row[\"movie_title\"]\n",
    "df[\"combined_features\"] = df.apply(combined_features, axis =1)"
   ]
  },
  {
   "cell_type": "code",
   "execution_count": 19,
   "metadata": {
    "colab": {
     "base_uri": "https://localhost:8080/",
     "height": 270
    },
    "id": "wr_DWYwlImA9",
    "outputId": "dc56e68a-ac42-4cc6-b435-499b35138651"
   },
   "outputs": [
    {
     "data": {
      "text/html": [
       "<div>\n",
       "<style scoped>\n",
       "    .dataframe tbody tr th:only-of-type {\n",
       "        vertical-align: middle;\n",
       "    }\n",
       "\n",
       "    .dataframe tbody tr th {\n",
       "        vertical-align: top;\n",
       "    }\n",
       "\n",
       "    .dataframe thead th {\n",
       "        text-align: right;\n",
       "    }\n",
       "</style>\n",
       "<table border=\"1\" class=\"dataframe\">\n",
       "  <thead>\n",
       "    <tr style=\"text-align: right;\">\n",
       "      <th></th>\n",
       "      <th>director_name</th>\n",
       "      <th>actor_1_name</th>\n",
       "      <th>actor_2_name</th>\n",
       "      <th>actor_3_name</th>\n",
       "      <th>genres</th>\n",
       "      <th>movie_title</th>\n",
       "      <th>index</th>\n",
       "      <th>combined_features</th>\n",
       "    </tr>\n",
       "  </thead>\n",
       "  <tbody>\n",
       "    <tr>\n",
       "      <th>0</th>\n",
       "      <td>james cameron</td>\n",
       "      <td>cch pounder</td>\n",
       "      <td>joel david moore</td>\n",
       "      <td>wes studi</td>\n",
       "      <td>action adventure fantasy science friction</td>\n",
       "      <td>avatar</td>\n",
       "      <td>0</td>\n",
       "      <td>james cameron cch pounder joel david moore wes...</td>\n",
       "    </tr>\n",
       "    <tr>\n",
       "      <th>1</th>\n",
       "      <td>gore verbinski</td>\n",
       "      <td>johnny depp</td>\n",
       "      <td>orlando bloom</td>\n",
       "      <td>jack davenport</td>\n",
       "      <td>action adventure fantasy</td>\n",
       "      <td>pirates of the caribbean: at world's end</td>\n",
       "      <td>1</td>\n",
       "      <td>gore verbinski johnny depp orlando bloom jack ...</td>\n",
       "    </tr>\n",
       "    <tr>\n",
       "      <th>2</th>\n",
       "      <td>sam mendes</td>\n",
       "      <td>christoph waltz</td>\n",
       "      <td>rory kinnear</td>\n",
       "      <td>stephanie sigman</td>\n",
       "      <td>action adventure thriller</td>\n",
       "      <td>spectre</td>\n",
       "      <td>2</td>\n",
       "      <td>sam mendes christoph waltz rory kinnear stepha...</td>\n",
       "    </tr>\n",
       "    <tr>\n",
       "      <th>3</th>\n",
       "      <td>christopher nolan</td>\n",
       "      <td>tom hardy</td>\n",
       "      <td>christian bale</td>\n",
       "      <td>joseph gordon levitt</td>\n",
       "      <td>action thriller</td>\n",
       "      <td>the dark knight rises</td>\n",
       "      <td>3</td>\n",
       "      <td>christopher nolan tom hardy christian bale jos...</td>\n",
       "    </tr>\n",
       "    <tr>\n",
       "      <th>5</th>\n",
       "      <td>andrew stanton</td>\n",
       "      <td>daryl sabara</td>\n",
       "      <td>samantha morton</td>\n",
       "      <td>polly walker</td>\n",
       "      <td>action adventure science friction</td>\n",
       "      <td>john carter</td>\n",
       "      <td>4</td>\n",
       "      <td>andrew stanton daryl sabara samantha morton po...</td>\n",
       "    </tr>\n",
       "  </tbody>\n",
       "</table>\n",
       "</div>"
      ],
      "text/plain": [
       "       director_name     actor_1_name      actor_2_name          actor_3_name  \\\n",
       "0      james cameron      cch pounder  joel david moore             wes studi   \n",
       "1     gore verbinski      johnny depp     orlando bloom        jack davenport   \n",
       "2         sam mendes  christoph waltz      rory kinnear      stephanie sigman   \n",
       "3  christopher nolan        tom hardy    christian bale  joseph gordon levitt   \n",
       "5     andrew stanton     daryl sabara   samantha morton          polly walker   \n",
       "\n",
       "                                      genres  \\\n",
       "0  action adventure fantasy science friction   \n",
       "1                   action adventure fantasy   \n",
       "2                  action adventure thriller   \n",
       "3                            action thriller   \n",
       "5          action adventure science friction   \n",
       "\n",
       "                                 movie_title  index  \\\n",
       "0                                    avatar       0   \n",
       "1  pirates of the caribbean: at world's end       1   \n",
       "2                                   spectre       2   \n",
       "3                     the dark knight rises       3   \n",
       "5                               john carter       4   \n",
       "\n",
       "                                   combined_features  \n",
       "0  james cameron cch pounder joel david moore wes...  \n",
       "1  gore verbinski johnny depp orlando bloom jack ...  \n",
       "2  sam mendes christoph waltz rory kinnear stepha...  \n",
       "3  christopher nolan tom hardy christian bale jos...  \n",
       "5  andrew stanton daryl sabara samantha morton po...  "
      ]
     },
     "execution_count": 19,
     "metadata": {},
     "output_type": "execute_result"
    }
   ],
   "source": [
    "df.head()"
   ]
  },
  {
   "cell_type": "code",
   "execution_count": 20,
   "metadata": {
    "colab": {
     "base_uri": "https://localhost:8080/",
     "height": 270
    },
    "id": "KBaWYgiza60T",
    "outputId": "cf3157c5-376a-49c2-d34d-5732d86d459b"
   },
   "outputs": [
    {
     "data": {
      "text/html": [
       "<div>\n",
       "<style scoped>\n",
       "    .dataframe tbody tr th:only-of-type {\n",
       "        vertical-align: middle;\n",
       "    }\n",
       "\n",
       "    .dataframe tbody tr th {\n",
       "        vertical-align: top;\n",
       "    }\n",
       "\n",
       "    .dataframe thead th {\n",
       "        text-align: right;\n",
       "    }\n",
       "</style>\n",
       "<table border=\"1\" class=\"dataframe\">\n",
       "  <thead>\n",
       "    <tr style=\"text-align: right;\">\n",
       "      <th></th>\n",
       "      <th>director_name</th>\n",
       "      <th>actor_1_name</th>\n",
       "      <th>actor_2_name</th>\n",
       "      <th>actor_3_name</th>\n",
       "      <th>genres</th>\n",
       "      <th>movie_title</th>\n",
       "      <th>index</th>\n",
       "      <th>combined_features</th>\n",
       "    </tr>\n",
       "  </thead>\n",
       "  <tbody>\n",
       "    <tr>\n",
       "      <th>0</th>\n",
       "      <td>james cameron</td>\n",
       "      <td>cch pounder</td>\n",
       "      <td>joel david moore</td>\n",
       "      <td>wes studi</td>\n",
       "      <td>action adventure fantasy science friction</td>\n",
       "      <td>avatar</td>\n",
       "      <td>0</td>\n",
       "      <td>james cameron cch pounder joel david moore wes...</td>\n",
       "    </tr>\n",
       "    <tr>\n",
       "      <th>1</th>\n",
       "      <td>gore verbinski</td>\n",
       "      <td>johnny depp</td>\n",
       "      <td>orlando bloom</td>\n",
       "      <td>jack davenport</td>\n",
       "      <td>action adventure fantasy</td>\n",
       "      <td>pirates of the caribbean: at world's end</td>\n",
       "      <td>1</td>\n",
       "      <td>gore verbinski johnny depp orlando bloom jack ...</td>\n",
       "    </tr>\n",
       "    <tr>\n",
       "      <th>2</th>\n",
       "      <td>sam mendes</td>\n",
       "      <td>christoph waltz</td>\n",
       "      <td>rory kinnear</td>\n",
       "      <td>stephanie sigman</td>\n",
       "      <td>action adventure thriller</td>\n",
       "      <td>spectre</td>\n",
       "      <td>2</td>\n",
       "      <td>sam mendes christoph waltz rory kinnear stepha...</td>\n",
       "    </tr>\n",
       "    <tr>\n",
       "      <th>3</th>\n",
       "      <td>christopher nolan</td>\n",
       "      <td>tom hardy</td>\n",
       "      <td>christian bale</td>\n",
       "      <td>joseph gordon levitt</td>\n",
       "      <td>action thriller</td>\n",
       "      <td>the dark knight rises</td>\n",
       "      <td>3</td>\n",
       "      <td>christopher nolan tom hardy christian bale jos...</td>\n",
       "    </tr>\n",
       "    <tr>\n",
       "      <th>5</th>\n",
       "      <td>andrew stanton</td>\n",
       "      <td>daryl sabara</td>\n",
       "      <td>samantha morton</td>\n",
       "      <td>polly walker</td>\n",
       "      <td>action adventure science friction</td>\n",
       "      <td>john carter</td>\n",
       "      <td>4</td>\n",
       "      <td>andrew stanton daryl sabara samantha morton po...</td>\n",
       "    </tr>\n",
       "  </tbody>\n",
       "</table>\n",
       "</div>"
      ],
      "text/plain": [
       "       director_name     actor_1_name      actor_2_name          actor_3_name  \\\n",
       "0      james cameron      cch pounder  joel david moore             wes studi   \n",
       "1     gore verbinski      johnny depp     orlando bloom        jack davenport   \n",
       "2         sam mendes  christoph waltz      rory kinnear      stephanie sigman   \n",
       "3  christopher nolan        tom hardy    christian bale  joseph gordon levitt   \n",
       "5     andrew stanton     daryl sabara   samantha morton          polly walker   \n",
       "\n",
       "                                      genres  \\\n",
       "0  action adventure fantasy science friction   \n",
       "1                   action adventure fantasy   \n",
       "2                  action adventure thriller   \n",
       "3                            action thriller   \n",
       "5          action adventure science friction   \n",
       "\n",
       "                                movie_title  index  \\\n",
       "0                                    avatar      0   \n",
       "1  pirates of the caribbean: at world's end      1   \n",
       "2                                   spectre      2   \n",
       "3                     the dark knight rises      3   \n",
       "5                               john carter      4   \n",
       "\n",
       "                                   combined_features  \n",
       "0  james cameron cch pounder joel david moore wes...  \n",
       "1  gore verbinski johnny depp orlando bloom jack ...  \n",
       "2  sam mendes christoph waltz rory kinnear stepha...  \n",
       "3  christopher nolan tom hardy christian bale jos...  \n",
       "5  andrew stanton daryl sabara samantha morton po...  "
      ]
     },
     "execution_count": 20,
     "metadata": {},
     "output_type": "execute_result"
    }
   ],
   "source": [
    "df['movie_title'] = df['movie_title'].str.strip()\n",
    "df.head()"
   ]
  },
  {
   "cell_type": "code",
   "execution_count": 21,
   "metadata": {},
   "outputs": [
    {
     "data": {
      "text/html": [
       "<div>\n",
       "<style scoped>\n",
       "    .dataframe tbody tr th:only-of-type {\n",
       "        vertical-align: middle;\n",
       "    }\n",
       "\n",
       "    .dataframe tbody tr th {\n",
       "        vertical-align: top;\n",
       "    }\n",
       "\n",
       "    .dataframe thead th {\n",
       "        text-align: right;\n",
       "    }\n",
       "</style>\n",
       "<table border=\"1\" class=\"dataframe\">\n",
       "  <thead>\n",
       "    <tr style=\"text-align: right;\">\n",
       "      <th></th>\n",
       "      <th>director_name</th>\n",
       "      <th>actor_1_name</th>\n",
       "      <th>actor_2_name</th>\n",
       "      <th>actor_3_name</th>\n",
       "      <th>genres</th>\n",
       "      <th>movie_title</th>\n",
       "      <th>index</th>\n",
       "      <th>combined_features</th>\n",
       "    </tr>\n",
       "  </thead>\n",
       "  <tbody>\n",
       "    <tr>\n",
       "      <th>0</th>\n",
       "      <td>james cameron</td>\n",
       "      <td>cch pounder</td>\n",
       "      <td>joel david moore</td>\n",
       "      <td>wes studi</td>\n",
       "      <td>action adventure fantasy science friction</td>\n",
       "      <td>avatar</td>\n",
       "      <td>0</td>\n",
       "      <td>james cameron cch pounder joel david moore wes...</td>\n",
       "    </tr>\n",
       "    <tr>\n",
       "      <th>1</th>\n",
       "      <td>gore verbinski</td>\n",
       "      <td>johnny depp</td>\n",
       "      <td>orlando bloom</td>\n",
       "      <td>jack davenport</td>\n",
       "      <td>action adventure fantasy</td>\n",
       "      <td>pirates of the caribbean: at world's end</td>\n",
       "      <td>1</td>\n",
       "      <td>gore verbinski johnny depp orlando bloom jack ...</td>\n",
       "    </tr>\n",
       "    <tr>\n",
       "      <th>2</th>\n",
       "      <td>sam mendes</td>\n",
       "      <td>christoph waltz</td>\n",
       "      <td>rory kinnear</td>\n",
       "      <td>stephanie sigman</td>\n",
       "      <td>action adventure thriller</td>\n",
       "      <td>spectre</td>\n",
       "      <td>2</td>\n",
       "      <td>sam mendes christoph waltz rory kinnear stepha...</td>\n",
       "    </tr>\n",
       "    <tr>\n",
       "      <th>3</th>\n",
       "      <td>christopher nolan</td>\n",
       "      <td>tom hardy</td>\n",
       "      <td>christian bale</td>\n",
       "      <td>joseph gordon levitt</td>\n",
       "      <td>action thriller</td>\n",
       "      <td>the dark knight rises</td>\n",
       "      <td>3</td>\n",
       "      <td>christopher nolan tom hardy christian bale jos...</td>\n",
       "    </tr>\n",
       "    <tr>\n",
       "      <th>5</th>\n",
       "      <td>andrew stanton</td>\n",
       "      <td>daryl sabara</td>\n",
       "      <td>samantha morton</td>\n",
       "      <td>polly walker</td>\n",
       "      <td>action adventure science friction</td>\n",
       "      <td>john carter</td>\n",
       "      <td>4</td>\n",
       "      <td>andrew stanton daryl sabara samantha morton po...</td>\n",
       "    </tr>\n",
       "    <tr>\n",
       "      <th>...</th>\n",
       "      <td>...</td>\n",
       "      <td>...</td>\n",
       "      <td>...</td>\n",
       "      <td>...</td>\n",
       "      <td>...</td>\n",
       "      <td>...</td>\n",
       "      <td>...</td>\n",
       "      <td>...</td>\n",
       "    </tr>\n",
       "    <tr>\n",
       "      <th>5037</th>\n",
       "      <td>edward burns</td>\n",
       "      <td>kerry bishé</td>\n",
       "      <td>caitlin fitzgerald</td>\n",
       "      <td>daniella pineda</td>\n",
       "      <td>comedy drama</td>\n",
       "      <td>newlyweds</td>\n",
       "      <td>4914</td>\n",
       "      <td>edward burns kerry bishé caitlin fitzgerald da...</td>\n",
       "    </tr>\n",
       "    <tr>\n",
       "      <th>5038</th>\n",
       "      <td>scott smith</td>\n",
       "      <td>eric mabius</td>\n",
       "      <td>daphne zuniga</td>\n",
       "      <td>crystal lowe</td>\n",
       "      <td>comedy drama</td>\n",
       "      <td>signed sealed delivered</td>\n",
       "      <td>4915</td>\n",
       "      <td>scott smith eric mabius daphne zuniga crystal ...</td>\n",
       "    </tr>\n",
       "    <tr>\n",
       "      <th>5040</th>\n",
       "      <td>benjamin roberds</td>\n",
       "      <td>eva boehnke</td>\n",
       "      <td>maxwell moody</td>\n",
       "      <td>david chandler</td>\n",
       "      <td>drama horror thriller</td>\n",
       "      <td>a plague so pleasant</td>\n",
       "      <td>4916</td>\n",
       "      <td>benjamin roberds eva boehnke maxwell moody dav...</td>\n",
       "    </tr>\n",
       "    <tr>\n",
       "      <th>5041</th>\n",
       "      <td>daniel hsia</td>\n",
       "      <td>alan ruck</td>\n",
       "      <td>daniel henney</td>\n",
       "      <td>eliza coupe</td>\n",
       "      <td>comedy drama romance</td>\n",
       "      <td>shanghai calling</td>\n",
       "      <td>4917</td>\n",
       "      <td>daniel hsia alan ruck daniel henney eliza coup...</td>\n",
       "    </tr>\n",
       "    <tr>\n",
       "      <th>5042</th>\n",
       "      <td>jon gunn</td>\n",
       "      <td>john august</td>\n",
       "      <td>brian herzlinger</td>\n",
       "      <td>jon gunn</td>\n",
       "      <td>documentary</td>\n",
       "      <td>my date with drew</td>\n",
       "      <td>4918</td>\n",
       "      <td>jon gunn john august brian herzlinger jon gunn...</td>\n",
       "    </tr>\n",
       "  </tbody>\n",
       "</table>\n",
       "<p>4919 rows × 8 columns</p>\n",
       "</div>"
      ],
      "text/plain": [
       "          director_name     actor_1_name        actor_2_name  \\\n",
       "0         james cameron      cch pounder    joel david moore   \n",
       "1        gore verbinski      johnny depp       orlando bloom   \n",
       "2            sam mendes  christoph waltz        rory kinnear   \n",
       "3     christopher nolan        tom hardy      christian bale   \n",
       "5        andrew stanton     daryl sabara     samantha morton   \n",
       "...                 ...              ...                 ...   \n",
       "5037       edward burns      kerry bishé  caitlin fitzgerald   \n",
       "5038        scott smith      eric mabius       daphne zuniga   \n",
       "5040   benjamin roberds      eva boehnke       maxwell moody   \n",
       "5041        daniel hsia        alan ruck       daniel henney   \n",
       "5042           jon gunn      john august    brian herzlinger   \n",
       "\n",
       "              actor_3_name                                     genres  \\\n",
       "0                wes studi  action adventure fantasy science friction   \n",
       "1           jack davenport                   action adventure fantasy   \n",
       "2         stephanie sigman                  action adventure thriller   \n",
       "3     joseph gordon levitt                            action thriller   \n",
       "5             polly walker          action adventure science friction   \n",
       "...                    ...                                        ...   \n",
       "5037       daniella pineda                               comedy drama   \n",
       "5038          crystal lowe                               comedy drama   \n",
       "5040        david chandler                      drama horror thriller   \n",
       "5041           eliza coupe                       comedy drama romance   \n",
       "5042              jon gunn                                documentary   \n",
       "\n",
       "                                   movie_title  index  \\\n",
       "0                                       avatar      0   \n",
       "1     pirates of the caribbean: at world's end      1   \n",
       "2                                      spectre      2   \n",
       "3                        the dark knight rises      3   \n",
       "5                                  john carter      4   \n",
       "...                                        ...    ...   \n",
       "5037                                 newlyweds   4914   \n",
       "5038                   signed sealed delivered   4915   \n",
       "5040                      a plague so pleasant   4916   \n",
       "5041                          shanghai calling   4917   \n",
       "5042                         my date with drew   4918   \n",
       "\n",
       "                                      combined_features  \n",
       "0     james cameron cch pounder joel david moore wes...  \n",
       "1     gore verbinski johnny depp orlando bloom jack ...  \n",
       "2     sam mendes christoph waltz rory kinnear stepha...  \n",
       "3     christopher nolan tom hardy christian bale jos...  \n",
       "5     andrew stanton daryl sabara samantha morton po...  \n",
       "...                                                 ...  \n",
       "5037  edward burns kerry bishé caitlin fitzgerald da...  \n",
       "5038  scott smith eric mabius daphne zuniga crystal ...  \n",
       "5040  benjamin roberds eva boehnke maxwell moody dav...  \n",
       "5041  daniel hsia alan ruck daniel henney eliza coup...  \n",
       "5042  jon gunn john august brian herzlinger jon gunn...  \n",
       "\n",
       "[4919 rows x 8 columns]"
      ]
     },
     "execution_count": 21,
     "metadata": {},
     "output_type": "execute_result"
    }
   ],
   "source": [
    "df"
   ]
  },
  {
   "cell_type": "code",
   "execution_count": 22,
   "metadata": {},
   "outputs": [],
   "source": [
    "new_df=pd.DataFrame()"
   ]
  },
  {
   "cell_type": "code",
   "execution_count": 23,
   "metadata": {},
   "outputs": [],
   "source": [
    "new_df['index']=df['index']"
   ]
  },
  {
   "cell_type": "code",
   "execution_count": 24,
   "metadata": {},
   "outputs": [],
   "source": [
    "new_df['movie_title']=df['movie_title']"
   ]
  },
  {
   "cell_type": "code",
   "execution_count": 25,
   "metadata": {},
   "outputs": [
    {
     "data": {
      "text/html": [
       "<div>\n",
       "<style scoped>\n",
       "    .dataframe tbody tr th:only-of-type {\n",
       "        vertical-align: middle;\n",
       "    }\n",
       "\n",
       "    .dataframe tbody tr th {\n",
       "        vertical-align: top;\n",
       "    }\n",
       "\n",
       "    .dataframe thead th {\n",
       "        text-align: right;\n",
       "    }\n",
       "</style>\n",
       "<table border=\"1\" class=\"dataframe\">\n",
       "  <thead>\n",
       "    <tr style=\"text-align: right;\">\n",
       "      <th></th>\n",
       "      <th>index</th>\n",
       "      <th>movie_title</th>\n",
       "    </tr>\n",
       "  </thead>\n",
       "  <tbody>\n",
       "    <tr>\n",
       "      <th>0</th>\n",
       "      <td>0</td>\n",
       "      <td>avatar</td>\n",
       "    </tr>\n",
       "    <tr>\n",
       "      <th>1</th>\n",
       "      <td>1</td>\n",
       "      <td>pirates of the caribbean: at world's end</td>\n",
       "    </tr>\n",
       "    <tr>\n",
       "      <th>2</th>\n",
       "      <td>2</td>\n",
       "      <td>spectre</td>\n",
       "    </tr>\n",
       "    <tr>\n",
       "      <th>3</th>\n",
       "      <td>3</td>\n",
       "      <td>the dark knight rises</td>\n",
       "    </tr>\n",
       "    <tr>\n",
       "      <th>5</th>\n",
       "      <td>4</td>\n",
       "      <td>john carter</td>\n",
       "    </tr>\n",
       "    <tr>\n",
       "      <th>...</th>\n",
       "      <td>...</td>\n",
       "      <td>...</td>\n",
       "    </tr>\n",
       "    <tr>\n",
       "      <th>5037</th>\n",
       "      <td>4914</td>\n",
       "      <td>newlyweds</td>\n",
       "    </tr>\n",
       "    <tr>\n",
       "      <th>5038</th>\n",
       "      <td>4915</td>\n",
       "      <td>signed sealed delivered</td>\n",
       "    </tr>\n",
       "    <tr>\n",
       "      <th>5040</th>\n",
       "      <td>4916</td>\n",
       "      <td>a plague so pleasant</td>\n",
       "    </tr>\n",
       "    <tr>\n",
       "      <th>5041</th>\n",
       "      <td>4917</td>\n",
       "      <td>shanghai calling</td>\n",
       "    </tr>\n",
       "    <tr>\n",
       "      <th>5042</th>\n",
       "      <td>4918</td>\n",
       "      <td>my date with drew</td>\n",
       "    </tr>\n",
       "  </tbody>\n",
       "</table>\n",
       "<p>4919 rows × 2 columns</p>\n",
       "</div>"
      ],
      "text/plain": [
       "      index                               movie_title\n",
       "0         0                                    avatar\n",
       "1         1  pirates of the caribbean: at world's end\n",
       "2         2                                   spectre\n",
       "3         3                     the dark knight rises\n",
       "5         4                               john carter\n",
       "...     ...                                       ...\n",
       "5037   4914                                 newlyweds\n",
       "5038   4915                   signed sealed delivered\n",
       "5040   4916                      a plague so pleasant\n",
       "5041   4917                          shanghai calling\n",
       "5042   4918                         my date with drew\n",
       "\n",
       "[4919 rows x 2 columns]"
      ]
     },
     "execution_count": 25,
     "metadata": {},
     "output_type": "execute_result"
    }
   ],
   "source": [
    "new_df"
   ]
  },
  {
   "cell_type": "code",
   "execution_count": 26,
   "metadata": {},
   "outputs": [],
   "source": [
    "new_df.to_csv('find_index.csv')"
   ]
  }
 ],
 "metadata": {
  "colab": {
   "name": "college_project.ipynb",
   "provenance": []
  },
  "kernelspec": {
   "display_name": "Python 3",
   "language": "python",
   "name": "python3"
  },
  "language_info": {
   "codemirror_mode": {
    "name": "ipython",
    "version": 3
   },
   "file_extension": ".py",
   "mimetype": "text/x-python",
   "name": "python",
   "nbconvert_exporter": "python",
   "pygments_lexer": "ipython3",
   "version": "3.9.5"
  }
 },
 "nbformat": 4,
 "nbformat_minor": 1
}
